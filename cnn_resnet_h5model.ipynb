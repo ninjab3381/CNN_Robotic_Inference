{
  "nbformat": 4,
  "nbformat_minor": 0,
  "metadata": {
    "colab": {
      "name": "cnn_resnet_h5model.ipynb",
      "provenance": [],
      "mount_file_id": "1LvnbQw5IZ8LVRYeADOYO7A2nNSaS40FG",
      "authorship_tag": "ABX9TyOoMXHMgN3XA8PW1hLzWuph",
      "include_colab_link": true
    },
    "kernelspec": {
      "name": "python3",
      "display_name": "Python 3"
    },
    "accelerator": "GPU"
  },
  "cells": [
    {
      "cell_type": "markdown",
      "metadata": {
        "id": "view-in-github",
        "colab_type": "text"
      },
      "source": [
        "<a href=\"https://colab.research.google.com/github/ninjab3381/CNN_Robotic_Inference/blob/master/cnn_resnet_h5model.ipynb\" target=\"_parent\"><img src=\"https://colab.research.google.com/assets/colab-badge.svg\" alt=\"Open In Colab\"/></a>"
      ]
    },
    {
      "cell_type": "code",
      "metadata": {
        "id": "tfcaDHCRSzUz",
        "colab_type": "code",
        "outputId": "d3319f91-0ab9-45e8-944a-52b083597a18",
        "colab": {
          "base_uri": "https://localhost:8080/",
          "height": 34
        }
      },
      "source": [
        "try:\n",
        "  # The %tensorflow_version magic only works in colab.\n",
        "  %tensorflow_version 2.x\n",
        "except Exception:\n",
        "  pass\n",
        "import tensorflow as tf\n",
        "import keras\n",
        "print(tf.__version__)"
      ],
      "execution_count": 39,
      "outputs": [
        {
          "output_type": "stream",
          "text": [
            "2.1.0\n"
          ],
          "name": "stdout"
        }
      ]
    },
    {
      "cell_type": "code",
      "metadata": {
        "id": "tlDNynqJTgSi",
        "colab_type": "code",
        "colab": {}
      },
      "source": [
        "IMAGE_SIZE = 224\n",
        "BATCH_SIZE = 16"
      ],
      "execution_count": 0,
      "outputs": []
    },
    {
      "cell_type": "code",
      "metadata": {
        "id": "gz5h8TvKTxik",
        "colab_type": "code",
        "outputId": "981f89cf-174e-48d7-c479-c94f8157300c",
        "colab": {
          "base_uri": "https://localhost:8080/",
          "height": 34
        }
      },
      "source": [
        "for image_batch, label_batch in train_generator:\n",
        "  break\n",
        "image_batch.shape, label_batch.shape"
      ],
      "execution_count": 41,
      "outputs": [
        {
          "output_type": "execute_result",
          "data": {
            "text/plain": [
              "((32, 224, 224, 3), (32, 11))"
            ]
          },
          "metadata": {
            "tags": []
          },
          "execution_count": 41
        }
      ]
    },
    {
      "cell_type": "code",
      "metadata": {
        "id": "Hr3-8rklUPm8",
        "colab_type": "code",
        "colab": {}
      },
      "source": [
        "IMG_SHAPE = (IMAGE_SIZE, IMAGE_SIZE, 3)\n",
        "\n",
        "from tensorflow.keras.applications import(\n",
        "    vgg16, \n",
        "    inception_v3, \n",
        "    resnet50,\n",
        "    mobilenet, \n",
        "    MobileNetV2\n",
        ")\n",
        "import numpy as np\n",
        "\n",
        "# Create the base model from the pre-trained model MobileNet V2\n",
        "base_model = resnet50.ResNet50(input_shape=IMG_SHAPE,\n",
        "                   include_top=False, \n",
        "                   weights='imagenet')"
      ],
      "execution_count": 0,
      "outputs": []
    },
    {
      "cell_type": "code",
      "metadata": {
        "id": "A0kaLwdEURA-",
        "colab_type": "code",
        "colab": {}
      },
      "source": [
        "base_model.trainable = False"
      ],
      "execution_count": 0,
      "outputs": []
    },
    {
      "cell_type": "code",
      "metadata": {
        "id": "TJWEdxJ1UVfA",
        "colab_type": "code",
        "colab": {}
      },
      "source": [
        "from tensorflow.keras.layers import *\n",
        "from tensorflow.keras.models import Sequential\n",
        "\n",
        "model = Sequential([\n",
        "  base_model,\n",
        "])\n",
        "model.add(Conv2D(32, 3, activation='relu'))\n",
        "model.add(Dropout(0.2))\n",
        "model.add(GlobalAveragePooling2D())\n",
        "model.add(Dense(11, activation='softmax'))"
      ],
      "execution_count": 0,
      "outputs": []
    },
    {
      "cell_type": "code",
      "metadata": {
        "id": "Y-2hxwU6UYJi",
        "colab_type": "code",
        "colab": {}
      },
      "source": [
        "model.compile(optimizer=tf.keras.optimizers.Adam(), \n",
        "              loss='categorical_crossentropy', \n",
        "              metrics=['accuracy'])"
      ],
      "execution_count": 0,
      "outputs": []
    },
    {
      "cell_type": "code",
      "metadata": {
        "id": "EsbqVWQWUagU",
        "colab_type": "code",
        "outputId": "9aadc285-7b68-43cd-df23-a31b37ad7616",
        "colab": {
          "base_uri": "https://localhost:8080/",
          "height": 323
        }
      },
      "source": [
        "model.summary()"
      ],
      "execution_count": 46,
      "outputs": [
        {
          "output_type": "stream",
          "text": [
            "Model: \"sequential_2\"\n",
            "_________________________________________________________________\n",
            "Layer (type)                 Output Shape              Param #   \n",
            "=================================================================\n",
            "resnet50 (Model)             (None, 7, 7, 2048)        23587712  \n",
            "_________________________________________________________________\n",
            "conv2d_2 (Conv2D)            (None, 5, 5, 32)          589856    \n",
            "_________________________________________________________________\n",
            "dropout_2 (Dropout)          (None, 5, 5, 32)          0         \n",
            "_________________________________________________________________\n",
            "global_average_pooling2d_2 ( (None, 32)                0         \n",
            "_________________________________________________________________\n",
            "dense_2 (Dense)              (None, 11)                363       \n",
            "=================================================================\n",
            "Total params: 24,177,931\n",
            "Trainable params: 590,219\n",
            "Non-trainable params: 23,587,712\n",
            "_________________________________________________________________\n"
          ],
          "name": "stdout"
        }
      ]
    },
    {
      "cell_type": "code",
      "metadata": {
        "id": "_K1iBVt2Uhii",
        "colab_type": "code",
        "outputId": "a9905c90-f040-4371-82f2-f9d9bd68f646",
        "colab": {
          "base_uri": "https://localhost:8080/",
          "height": 34
        }
      },
      "source": [
        "print('Number of trainable variables = {}'.format(len(model.trainable_variables)))"
      ],
      "execution_count": 47,
      "outputs": [
        {
          "output_type": "stream",
          "text": [
            "Number of trainable variables = 4\n"
          ],
          "name": "stdout"
        }
      ]
    },
    {
      "cell_type": "code",
      "metadata": {
        "id": "Qb19t2fEUoYh",
        "colab_type": "code",
        "outputId": "ab2ee8ff-ad0c-4f25-d9ab-71326728f691",
        "colab": {
          "base_uri": "https://localhost:8080/",
          "height": 870
        }
      },
      "source": [
        "epochs = 20\n",
        "\n",
        "history = model.fit_generator(train_generator, \n",
        "                    epochs=epochs, \n",
        "                    validation_data=val_generator)"
      ],
      "execution_count": 48,
      "outputs": [
        {
          "output_type": "stream",
          "text": [
            "WARNING:tensorflow:sample_weight modes were coerced from\n",
            "  ...\n",
            "    to  \n",
            "  ['...']\n",
            "WARNING:tensorflow:sample_weight modes were coerced from\n",
            "  ...\n",
            "    to  \n",
            "  ['...']\n",
            "Train for 13 steps, validate for 2 steps\n",
            "Epoch 1/20\n",
            "13/13 [==============================] - 13s 1s/step - loss: 1.9315 - accuracy: 0.5859 - val_loss: 2.8578 - val_accuracy: 0.0909\n",
            "Epoch 2/20\n",
            "13/13 [==============================] - 10s 795ms/step - loss: 0.1960 - accuracy: 0.9520 - val_loss: 2.8867 - val_accuracy: 0.1136\n",
            "Epoch 3/20\n",
            "13/13 [==============================] - 10s 797ms/step - loss: 0.0570 - accuracy: 0.9899 - val_loss: 3.2976 - val_accuracy: 0.0909\n",
            "Epoch 4/20\n",
            "13/13 [==============================] - 10s 789ms/step - loss: 0.0215 - accuracy: 0.9975 - val_loss: 3.3720 - val_accuracy: 0.0909\n",
            "Epoch 5/20\n",
            "13/13 [==============================] - 10s 789ms/step - loss: 0.0058 - accuracy: 1.0000 - val_loss: 3.5914 - val_accuracy: 0.0909\n",
            "Epoch 6/20\n",
            "13/13 [==============================] - 11s 814ms/step - loss: 0.0040 - accuracy: 1.0000 - val_loss: 3.6848 - val_accuracy: 0.0909\n",
            "Epoch 7/20\n",
            "13/13 [==============================] - 10s 805ms/step - loss: 0.0019 - accuracy: 1.0000 - val_loss: 3.7262 - val_accuracy: 0.0909\n",
            "Epoch 8/20\n",
            "13/13 [==============================] - 10s 807ms/step - loss: 0.0018 - accuracy: 1.0000 - val_loss: 3.7336 - val_accuracy: 0.0909\n",
            "Epoch 9/20\n",
            "13/13 [==============================] - 10s 793ms/step - loss: 0.0016 - accuracy: 1.0000 - val_loss: 3.7297 - val_accuracy: 0.0909\n",
            "Epoch 10/20\n",
            "13/13 [==============================] - 10s 786ms/step - loss: 0.0017 - accuracy: 1.0000 - val_loss: 3.7213 - val_accuracy: 0.0909\n",
            "Epoch 11/20\n",
            "13/13 [==============================] - 10s 776ms/step - loss: 0.0014 - accuracy: 1.0000 - val_loss: 3.7320 - val_accuracy: 0.0909\n",
            "Epoch 12/20\n",
            "13/13 [==============================] - 10s 798ms/step - loss: 0.0011 - accuracy: 1.0000 - val_loss: 3.7612 - val_accuracy: 0.0909\n",
            "Epoch 13/20\n",
            "13/13 [==============================] - 10s 793ms/step - loss: 9.8674e-04 - accuracy: 1.0000 - val_loss: 3.8025 - val_accuracy: 0.0909\n",
            "Epoch 14/20\n",
            "13/13 [==============================] - 10s 787ms/step - loss: 0.0014 - accuracy: 1.0000 - val_loss: 3.6284 - val_accuracy: 0.0909\n",
            "Epoch 15/20\n",
            "13/13 [==============================] - 10s 795ms/step - loss: 9.7978e-04 - accuracy: 1.0000 - val_loss: 3.5918 - val_accuracy: 0.0909\n",
            "Epoch 16/20\n",
            "13/13 [==============================] - 10s 783ms/step - loss: 9.8187e-04 - accuracy: 1.0000 - val_loss: 3.6528 - val_accuracy: 0.0909\n",
            "Epoch 17/20\n",
            "13/13 [==============================] - 10s 795ms/step - loss: 8.2351e-04 - accuracy: 1.0000 - val_loss: 3.7254 - val_accuracy: 0.0909\n",
            "Epoch 18/20\n",
            "13/13 [==============================] - 10s 791ms/step - loss: 0.0011 - accuracy: 1.0000 - val_loss: 3.7644 - val_accuracy: 0.0909\n",
            "Epoch 19/20\n",
            "13/13 [==============================] - 11s 820ms/step - loss: 6.4012e-04 - accuracy: 1.0000 - val_loss: 3.7653 - val_accuracy: 0.0909\n",
            "Epoch 20/20\n",
            "13/13 [==============================] - 10s 806ms/step - loss: 5.9822e-04 - accuracy: 1.0000 - val_loss: 3.7749 - val_accuracy: 0.0909\n"
          ],
          "name": "stdout"
        }
      ]
    },
    {
      "cell_type": "code",
      "metadata": {
        "id": "bubz1zfxUsx-",
        "colab_type": "code",
        "outputId": "eb92507e-ce4d-4c08-f858-0793458a2d76",
        "colab": {
          "base_uri": "https://localhost:8080/",
          "height": 513
        }
      },
      "source": [
        "import matplotlib.pyplot as plt\n",
        "\n",
        "acc = history.history['accuracy']\n",
        "val_acc = history.history['val_accuracy']\n",
        "\n",
        "loss = history.history['loss']\n",
        "val_loss = history.history['val_loss']\n",
        "\n",
        "plt.figure(figsize=(8, 8))\n",
        "plt.subplot(2, 1, 1)\n",
        "plt.plot(acc, label='Training Accuracy')\n",
        "plt.plot(val_acc, label='Validation Accuracy')\n",
        "plt.legend(loc='lower right')\n",
        "plt.ylabel('Accuracy')\n",
        "plt.ylim([min(plt.ylim()),1])\n",
        "plt.title('Training and Validation Accuracy')\n",
        "\n",
        "plt.subplot(2, 1, 2)\n",
        "plt.plot(loss, label='Training Loss')\n",
        "plt.plot(val_loss, label='Validation Loss')\n",
        "plt.legend(loc='upper right')\n",
        "plt.ylabel('Cross Entropy')\n",
        "plt.ylim([0,1.0])\n",
        "plt.title('Training and Validation Loss')\n",
        "plt.xlabel('epoch')\n",
        "plt.show()"
      ],
      "execution_count": 49,
      "outputs": [
        {
          "output_type": "display_data",
          "data": {
            "image/png": "[encoded data removed]",
            "text/plain": [
              "<Figure size 576x576 with 2 Axes>"
            ]
          },
          "metadata": {
            "tags": []
          }
        }
      ]
    },
    {
      "cell_type": "code",
      "metadata": {
        "id": "QSxPqiKZ3pPk",
        "colab_type": "code",
        "colab": {
          "base_uri": "https://localhost:8080/",
          "height": 323
        },
        "outputId": "90f17606-610f-42f2-f40a-5999f47ac2e1"
      },
      "source": [
        "model.summary()"
      ],
      "execution_count": 50,
      "outputs": [
        {
          "output_type": "stream",
          "text": [
            "Model: \"sequential_2\"\n",
            "_________________________________________________________________\n",
            "Layer (type)                 Output Shape              Param #   \n",
            "=================================================================\n",
            "resnet50 (Model)             (None, 7, 7, 2048)        23587712  \n",
            "_________________________________________________________________\n",
            "conv2d_2 (Conv2D)            (None, 5, 5, 32)          589856    \n",
            "_________________________________________________________________\n",
            "dropout_2 (Dropout)          (None, 5, 5, 32)          0         \n",
            "_________________________________________________________________\n",
            "global_average_pooling2d_2 ( (None, 32)                0         \n",
            "_________________________________________________________________\n",
            "dense_2 (Dense)              (None, 11)                363       \n",
            "=================================================================\n",
            "Total params: 24,177,931\n",
            "Trainable params: 590,219\n",
            "Non-trainable params: 23,587,712\n",
            "_________________________________________________________________\n"
          ],
          "name": "stdout"
        }
      ]
    },
    {
      "cell_type": "code",
      "metadata": {
        "id": "MQjk9WF-3h0Q",
        "colab_type": "code",
        "colab": {}
      },
      "source": [
        "path = F\"/content/drive/My Drive/Models/Resnet50/testh5/resnet_model_skim.h5\"\n",
        "model.save(path)"
      ],
      "execution_count": 0,
      "outputs": []
    },
    {
      "cell_type": "code",
      "metadata": {
        "id": "m7r9-FyRsW-Y",
        "colab_type": "code",
        "colab": {}
      },
      "source": [
        "base_model.trainable = True"
      ],
      "execution_count": 0,
      "outputs": []
    },
    {
      "cell_type": "code",
      "metadata": {
        "id": "M1Z1lSmCsuN5",
        "colab_type": "code",
        "colab": {
          "base_uri": "https://localhost:8080/",
          "height": 34
        },
        "outputId": "14bf13cc-da11-4682-b402-bc3fe2c3c46a"
      },
      "source": [
        "# Let's take a look to see how many layers are in the base model\n",
        "print(\"Number of layers in the base model: \", len(base_model.layers))\n",
        "\n",
        "# Fine tune from this layer onwards\n",
        "fine_tune_at = 40\n",
        "\n",
        "# Freeze all the layers before the `fine_tune_at` layer\n",
        "for layer in base_model.layers[:fine_tune_at]:\n",
        "  layer.trainable =  False"
      ],
      "execution_count": 53,
      "outputs": [
        {
          "output_type": "stream",
          "text": [
            "Number of layers in the base model:  175\n"
          ],
          "name": "stdout"
        }
      ]
    },
    {
      "cell_type": "code",
      "metadata": {
        "id": "jy1iKYuCsw9s",
        "colab_type": "code",
        "colab": {}
      },
      "source": [
        "model.compile(loss='categorical_crossentropy',\n",
        "              optimizer = tf.keras.optimizers.Adam(1e-5),\n",
        "              metrics=['accuracy'])"
      ],
      "execution_count": 0,
      "outputs": []
    },
    {
      "cell_type": "code",
      "metadata": {
        "id": "_csU31Vpszea",
        "colab_type": "code",
        "colab": {
          "base_uri": "https://localhost:8080/",
          "height": 323
        },
        "outputId": "acbc7379-5049-4ff7-dd91-8954d955dcf2"
      },
      "source": [
        "model.summary()"
      ],
      "execution_count": 55,
      "outputs": [
        {
          "output_type": "stream",
          "text": [
            "Model: \"sequential_2\"\n",
            "_________________________________________________________________\n",
            "Layer (type)                 Output Shape              Param #   \n",
            "=================================================================\n",
            "resnet50 (Model)             (None, 7, 7, 2048)        23587712  \n",
            "_________________________________________________________________\n",
            "conv2d_2 (Conv2D)            (None, 5, 5, 32)          589856    \n",
            "_________________________________________________________________\n",
            "dropout_2 (Dropout)          (None, 5, 5, 32)          0         \n",
            "_________________________________________________________________\n",
            "global_average_pooling2d_2 ( (None, 32)                0         \n",
            "_________________________________________________________________\n",
            "dense_2 (Dense)              (None, 11)                363       \n",
            "=================================================================\n",
            "Total params: 24,177,931\n",
            "Trainable params: 23,865,099\n",
            "Non-trainable params: 312,832\n",
            "_________________________________________________________________\n"
          ],
          "name": "stdout"
        }
      ]
    },
    {
      "cell_type": "code",
      "metadata": {
        "id": "Otv6OJrvs18C",
        "colab_type": "code",
        "colab": {
          "base_uri": "https://localhost:8080/",
          "height": 530
        },
        "outputId": "93525f3f-8add-431c-f82c-dd33babd9646"
      },
      "source": [
        "history_fine = model.fit_generator(train_generator, \n",
        "                                   epochs=10,\n",
        "                                   validation_data=val_generator)"
      ],
      "execution_count": 56,
      "outputs": [
        {
          "output_type": "stream",
          "text": [
            "WARNING:tensorflow:sample_weight modes were coerced from\n",
            "  ...\n",
            "    to  \n",
            "  ['...']\n",
            "WARNING:tensorflow:sample_weight modes were coerced from\n",
            "  ...\n",
            "    to  \n",
            "  ['...']\n",
            "Train for 13 steps, validate for 2 steps\n",
            "Epoch 1/10\n",
            "13/13 [==============================] - 16s 1s/step - loss: 4.5707e-04 - accuracy: 1.0000 - val_loss: 3.6453 - val_accuracy: 0.0909\n",
            "Epoch 2/10\n",
            "13/13 [==============================] - 11s 843ms/step - loss: 1.7133e-04 - accuracy: 1.0000 - val_loss: 3.6765 - val_accuracy: 0.0909\n",
            "Epoch 3/10\n",
            "13/13 [==============================] - 11s 857ms/step - loss: 8.8626e-05 - accuracy: 1.0000 - val_loss: 3.6781 - val_accuracy: 0.0909\n",
            "Epoch 4/10\n",
            "13/13 [==============================] - 11s 853ms/step - loss: 2.5236e-05 - accuracy: 1.0000 - val_loss: 3.8433 - val_accuracy: 0.0909\n",
            "Epoch 5/10\n",
            "13/13 [==============================] - 11s 849ms/step - loss: 5.0238e-05 - accuracy: 1.0000 - val_loss: 4.2451 - val_accuracy: 0.0909\n",
            "Epoch 6/10\n",
            "13/13 [==============================] - 11s 837ms/step - loss: 3.3585e-05 - accuracy: 1.0000 - val_loss: 5.2971 - val_accuracy: 0.0909\n",
            "Epoch 7/10\n",
            "13/13 [==============================] - 11s 838ms/step - loss: 4.4202e-05 - accuracy: 1.0000 - val_loss: 6.9886 - val_accuracy: 0.0909\n",
            "Epoch 8/10\n",
            "13/13 [==============================] - 11s 849ms/step - loss: 1.4881e-05 - accuracy: 1.0000 - val_loss: 8.8298 - val_accuracy: 0.0909\n",
            "Epoch 9/10\n",
            "13/13 [==============================] - 11s 868ms/step - loss: 1.6610e-05 - accuracy: 1.0000 - val_loss: 10.5036 - val_accuracy: 0.0909\n",
            "Epoch 10/10\n",
            "13/13 [==============================] - 11s 845ms/step - loss: 1.0158e-05 - accuracy: 1.0000 - val_loss: 12.4005 - val_accuracy: 0.0909\n"
          ],
          "name": "stdout"
        }
      ]
    },
    {
      "cell_type": "code",
      "metadata": {
        "id": "Eaq2Zw1ts6yj",
        "colab_type": "code",
        "colab": {
          "base_uri": "https://localhost:8080/",
          "height": 513
        },
        "outputId": "ff75b997-304a-46cd-a9ba-d7f6743e4d59"
      },
      "source": [
        "acc = history_fine.history['accuracy']\n",
        "val_acc = history_fine.history['val_accuracy']\n",
        "\n",
        "loss = history_fine.history['loss']\n",
        "val_loss = history_fine.history['val_loss']\n",
        "\n",
        "plt.figure(figsize=(8, 8))\n",
        "plt.subplot(2, 1, 1)\n",
        "plt.plot(acc, label='Training Accuracy')\n",
        "plt.plot(val_acc, label='Validation Accuracy')\n",
        "plt.legend(loc='lower right')\n",
        "plt.ylabel('Accuracy')\n",
        "plt.ylim([min(plt.ylim()),1])\n",
        "plt.title('Training and Validation Accuracy')\n",
        "\n",
        "plt.subplot(2, 1, 2)\n",
        "plt.plot(loss, label='Training Loss')\n",
        "plt.plot(val_loss, label='Validation Loss')\n",
        "plt.legend(loc='upper right')\n",
        "plt.ylabel('Cross Entropy')\n",
        "plt.ylim([0,1.0])\n",
        "plt.title('Training and Validation Loss')\n",
        "plt.xlabel('epoch')\n",
        "plt.show()"
      ],
      "execution_count": 57,
      "outputs": [
        {
          "output_type": "display_data",
          "data": {
            "image/png": "[encoded data removed]",
            "text/plain": [
              "<Figure size 576x576 with 2 Axes>"
            ]
          },
          "metadata": {
            "tags": []
          }
        }
      ]
    },
    {
      "cell_type": "code",
      "metadata": {
        "id": "AYPqzzhqtB23",
        "colab_type": "code",
        "colab": {
          "base_uri": "https://localhost:8080/",
          "height": 34
        },
        "outputId": "43b20c54-41a4-47e9-fad0-e1008a7a27af"
      },
      "source": [
        "model.input_shape"
      ],
      "execution_count": 58,
      "outputs": [
        {
          "output_type": "execute_result",
          "data": {
            "text/plain": [
              "(None, 224, 224, 3)"
            ]
          },
          "metadata": {
            "tags": []
          },
          "execution_count": 58
        }
      ]
    },
    {
      "cell_type": "code",
      "metadata": {
        "id": "fQH1HATPVZ_r",
        "colab_type": "code",
        "colab": {}
      },
      "source": [
        "path = F\"/content/drive/My Drive/Models/Resnet50/testh5/resnet_model.h5\"\n",
        "model.save(path)"
      ],
      "execution_count": 0,
      "outputs": []
    }
  ]
}